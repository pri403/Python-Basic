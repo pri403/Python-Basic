{
  "nbformat": 4,
  "nbformat_minor": 0,
  "metadata": {
    "colab": {
      "provenance": []
    },
    "kernelspec": {
      "name": "python3",
      "display_name": "Python 3"
    },
    "language_info": {
      "name": "python"
    }
  },
  "cells": [
    {
      "cell_type": "code",
      "execution_count": null,
      "metadata": {
        "collapsed": true,
        "id": "fjXa8dgGPlx0"
      },
      "outputs": [],
      "source": []
    },
    {
      "cell_type": "markdown",
      "source": [
        "Q1. What is Python, and why is it popular?\n",
        "- Python is a high-level, interpreted programming language known for its simplicity, readability, and versatility.\n",
        "  It was created by Guido van Rossum in 1991 and has since become one of the most widely used programming languages worldwide.\n",
        "  It is popular because:\n",
        "  1. Easy to learn\n",
        "  2. Versatile\n",
        "  3. Object-Oriented\n",
        "  4. Dynamic typing\n",
        "  5. Interpreted Language\n",
        "\n",
        "Q2. What is an interpreter in Python?\n",
        "- An interpreter in Python is a special program that executes Python code line by line instead of compiling the whole program at once.\n",
        "\n",
        "Q3. What are pre-defined keywords in Python?\n",
        "- In Python, pre-defined keywords are special reserved words that have fixed meanings and are used to define the rules and structure of\n",
        "  the language. They cannot be used as variable names, function names, or identifiers. For example, if, else, and while are used for\n",
        "  control flow, def is used to define a function, and class is used to define a class. Keywords are case-sensitive, so True is valid\n",
        "  but true is not.\n",
        "\n",
        "Q4. Can keywords be used as variable names?\n",
        "- No , keywords cannot be used as variable names in Python because they are reserved words that already have a special meaning in the language.\n",
        "\n",
        "Q5. What is mutability in Python?\n",
        "- Mutability refers to whether the value of an object can be changed after it is created.\n",
        "  If an object can be modified, it is called mutable.\n",
        "\n",
        "Q6. Why are lists mutable, but tuples are immutable?\n",
        "- Lists are designed to store collections of data that may need to change.\n",
        "  You can add, remove, or update elements without creating a new list.\n",
        "  Internally, lists allocate extra memory to allow modifications.\n",
        "- Tuples are meant to store fixed data that should not change.\n",
        "  Once created, their elements cannot be altered, added, or removed.\n",
        "\n",
        "Q7. What is the difference between “==” and “is” operators in Python?\n",
        "- == Operator (Equality)\n",
        " Checks if values are the same.\n",
        " Compares the contents of two objects.\n",
        "- is Operator (Identity)\n",
        "  Checks if two variables point to the same object in memory.\n",
        "  Compares the identity (memory address) of objects.\n",
        "\n",
        "Q8. What are logical operators in Python?\n",
        "- In Python, logical operators are used to combine or modify conditional expressions and return a Boolean value (True or False).\n",
        "  There are three logical operators:\n",
        "  and → Returns True only if both conditions are true.\n",
        "  or → Returns True if at least one condition is true.\n",
        "  not → Reverses the result, making True into False and False into True.\n",
        "\n",
        "Q9. What is type casting in Python?\n",
        "- Type casting in Python is the process of converting one data type into another. It can be of two types:\n",
        "  Implicit Type Casting – Performed automatically by Python when it converts a smaller data type into a larger one to prevent data loss.\n",
        "  Explicit Type Casting – Performed manually by the programmer using built-in functions like int(), float(), str(), etc.\n",
        "\n",
        "Q10. What is the difference between implicit and explicit type casting?\n",
        "- Difference between Implicit and Explicit Type Casting (Theory)\n",
        "  Implicit Type Casting: Also called type conversion, it is done automatically by Python. The interpreter converts one data type into\n",
        "  another without user involvement, usually from a smaller to a larger data type to avoid data loss.\n",
        "  Explicit Type Casting: Also called type casting, it is done manually by the programmer using built-in functions like int(), float(),\n",
        "  str(), etc., to convert one data type into another.\n",
        "\n",
        "Q11. What is the purpose of conditional statements in Python?\n",
        "- The purpose of **conditional statements in Python** is to make decisions in a program by executing certain blocks of code only when\n",
        "  specific conditions are true. They allow the program to follow different paths based on given conditions, making it dynamic and logical.\n",
        "  For example, using `if`, `elif`, and `else`, a program can check conditions and run the appropriate code accordingly. In short, conditional\n",
        "  statements control the **flow of execution** based on conditions.\n",
        "\n",
        "Q12. How does the elif statement work?\n",
        "- The elif statement in Python is used to check multiple conditions in a sequence. It stands for “else if” and comes after an if statement.\n",
        "  When the if condition is false, Python checks the elif condition; if that is true, the corresponding block of code is executed. You can use\n",
        "  multiple elif statements to test different conditions, but only the first True condition will run, and the rest are skipped. If none of the\n",
        "  if or elif conditions are true, the else block (if provided) will execute.\n",
        "\n",
        "Q13. What is the difference between for and while loops?\n",
        "- For Loop: Used when the number of iterations is known or when iterating over a sequence (like list, string, or range). It automatically goes\n",
        "  through each element or value in the sequence.\n",
        "  While Loop: Used when the number of iterations is not known in advance. It keeps running as long as the given condition remains true.\n",
        "\n",
        "Q14. Describe a scenario where a while loop is more suitable than a for loop.\n",
        "- A while loop is more suitable when the number of iterations is not known in advance and the loop needs to continue until a certain condition becomes false.\n",
        "Example Scenario: Suppose you are writing a program to keep asking a user for their password until they enter the correct one. Here, you don’t know how many attempts the user will take, so a while loop is appropriate.\n",
        "A while loop is best when repetition depends on a condition being met rather than a fixed number of iterations."
      ],
      "metadata": {
        "id": "Gbufu7uwYZVD"
      }
    },
    {
      "cell_type": "code",
      "source": [],
      "metadata": {
        "id": "v7lDh2f_ZW5N"
      },
      "execution_count": null,
      "outputs": []
    },
    {
      "cell_type": "markdown",
      "source": [
        "Practical Questions\n",
        "Q1. Write a Python program to print \"Hello, World!\".\n",
        "\n",
        "\n",
        "\n",
        "\n",
        "\n"
      ],
      "metadata": {
        "id": "lUHuEpR3ZaDu"
      }
    },
    {
      "cell_type": "code",
      "source": [
        "print(\"Hello, World!\")"
      ],
      "metadata": {
        "colab": {
          "base_uri": "https://localhost:8080/"
        },
        "id": "8wH81I7NZk76",
        "outputId": "07d411df-3cdc-4581-91ae-011e82a21fa7"
      },
      "execution_count": 2,
      "outputs": [
        {
          "output_type": "stream",
          "name": "stdout",
          "text": [
            "Hello, World!\n"
          ]
        }
      ]
    },
    {
      "cell_type": "markdown",
      "source": [
        "Q2. Write a Python program that displays your name and age."
      ],
      "metadata": {
        "id": "eWZjSqRyZwny"
      }
    },
    {
      "cell_type": "code",
      "source": [
        "name = \"Priyansh Ahuja\"\n",
        "age = 21\n",
        "print(\"My Name is\", name)\n",
        "print(\"My age is\", age)"
      ],
      "metadata": {
        "colab": {
          "base_uri": "https://localhost:8080/"
        },
        "id": "HpVWILfaZvFJ",
        "outputId": "568e9eaa-0d0b-40ac-878e-6318ac50e7c5"
      },
      "execution_count": 4,
      "outputs": [
        {
          "output_type": "stream",
          "name": "stdout",
          "text": [
            "My Name is Priyansh Ahuja\n",
            "My age is 21\n"
          ]
        }
      ]
    },
    {
      "cell_type": "markdown",
      "source": [
        "Q3. Write code to print all the pre-defined keywords in Python using the keyword library."
      ],
      "metadata": {
        "id": "pFWQjwxJaWJy"
      }
    },
    {
      "cell_type": "code",
      "source": [
        "import keyword\n",
        "print(\"The list of Python keywords is:\")\n",
        "print(keyword.kwlist)"
      ],
      "metadata": {
        "colab": {
          "base_uri": "https://localhost:8080/"
        },
        "id": "cn_bi_UBaN7z",
        "outputId": "c836123b-18a6-4a95-fe43-cf3682d23f3e"
      },
      "execution_count": 5,
      "outputs": [
        {
          "output_type": "stream",
          "name": "stdout",
          "text": [
            "The list of Python keywords is:\n",
            "['False', 'None', 'True', 'and', 'as', 'assert', 'async', 'await', 'break', 'class', 'continue', 'def', 'del', 'elif', 'else', 'except', 'finally', 'for', 'from', 'global', 'if', 'import', 'in', 'is', 'lambda', 'nonlocal', 'not', 'or', 'pass', 'raise', 'return', 'try', 'while', 'with', 'yield']\n"
          ]
        }
      ]
    },
    {
      "cell_type": "markdown",
      "source": [
        "Q4. Write a program that checks if a given word is a Python keyword."
      ],
      "metadata": {
        "id": "cfiXnZeHaux5"
      }
    },
    {
      "cell_type": "code",
      "source": [
        "import keyword\n",
        "word = input(\"Enter a word to check if it is a Python Keyword: \")\n",
        "if keyword.iskeyword(word):\n",
        "  print(word, \"is a Python Keyword.\")\n",
        "else:\n",
        "  print(word, \"is not a Python Keyword.\")"
      ],
      "metadata": {
        "colab": {
          "base_uri": "https://localhost:8080/"
        },
        "id": "5YLwgahtatkG",
        "outputId": "5bb204e5-f659-4d85-ba45-dad79ce7d9d6"
      },
      "execution_count": 8,
      "outputs": [
        {
          "output_type": "stream",
          "name": "stdout",
          "text": [
            "Enter a word to check if it is a Python Keyword: while\n",
            "while is a Python Keyword.\n"
          ]
        }
      ]
    },
    {
      "cell_type": "markdown",
      "source": [
        "Q5.  Create a list and tuple in Python, and demonstrate how attempting to change an element works differently for each."
      ],
      "metadata": {
        "id": "Q6Ktc7cHbpq7"
      }
    },
    {
      "cell_type": "code",
      "source": [
        "my_list = [1, 2, 3]\n",
        "print(\"Original List: \", my_list)\n",
        "\n",
        "my_list.append(4)\n",
        "print(\"Updated List: \", my_list)\n",
        "\n",
        "my_tuple = (1,2,3)\n",
        "print(\"original tuple is: \", my_tuple)\n",
        "\n",
        "my_tuple.append(5)\n",
        "print(\"Updated tuple is: \", my_tuple)"
      ],
      "metadata": {
        "colab": {
          "base_uri": "https://localhost:8080/",
          "height": 245
        },
        "id": "ystF2oNnbhw4",
        "outputId": "420e5d90-234b-4496-9f3b-6205804f1912"
      },
      "execution_count": 10,
      "outputs": [
        {
          "output_type": "stream",
          "name": "stdout",
          "text": [
            "Original List:  [1, 2, 3]\n",
            "Updated List:  [1, 2, 3, 4]\n",
            "original tuple is:  (1, 2, 3)\n"
          ]
        },
        {
          "output_type": "error",
          "ename": "AttributeError",
          "evalue": "'tuple' object has no attribute 'append'",
          "traceback": [
            "\u001b[0;31m---------------------------------------------------------------------------\u001b[0m",
            "\u001b[0;31mAttributeError\u001b[0m                            Traceback (most recent call last)",
            "\u001b[0;32m/tmp/ipython-input-2568089694.py\u001b[0m in \u001b[0;36m<cell line: 0>\u001b[0;34m()\u001b[0m\n\u001b[1;32m      8\u001b[0m \u001b[0mprint\u001b[0m\u001b[0;34m(\u001b[0m\u001b[0;34m\"original tuple is: \"\u001b[0m\u001b[0;34m,\u001b[0m \u001b[0mmy_tuple\u001b[0m\u001b[0;34m)\u001b[0m\u001b[0;34m\u001b[0m\u001b[0;34m\u001b[0m\u001b[0m\n\u001b[1;32m      9\u001b[0m \u001b[0;34m\u001b[0m\u001b[0m\n\u001b[0;32m---> 10\u001b[0;31m \u001b[0mmy_tuple\u001b[0m\u001b[0;34m.\u001b[0m\u001b[0mappend\u001b[0m\u001b[0;34m(\u001b[0m\u001b[0;36m5\u001b[0m\u001b[0;34m)\u001b[0m\u001b[0;34m\u001b[0m\u001b[0;34m\u001b[0m\u001b[0m\n\u001b[0m\u001b[1;32m     11\u001b[0m \u001b[0mprint\u001b[0m\u001b[0;34m(\u001b[0m\u001b[0;34m\"Updated tuple is: \"\u001b[0m\u001b[0;34m,\u001b[0m \u001b[0mmy_tuple\u001b[0m\u001b[0;34m)\u001b[0m\u001b[0;34m\u001b[0m\u001b[0;34m\u001b[0m\u001b[0m\n",
            "\u001b[0;31mAttributeError\u001b[0m: 'tuple' object has no attribute 'append'"
          ]
        }
      ]
    },
    {
      "cell_type": "markdown",
      "source": [
        "Q6. Write a function to demonstrate the behavior of mutable and immutable arguments."
      ],
      "metadata": {
        "id": "QlGiOn3beVsw"
      }
    },
    {
      "cell_type": "markdown",
      "source": [
        "Q7. Write a program that performs basic arithmetic operations on two user-input numbers."
      ],
      "metadata": {
        "id": "3m_mycEze_JT"
      }
    },
    {
      "cell_type": "code",
      "source": [
        "num1 = int(input(\"Enter the First Number: \"))\n",
        "num2 = int(input(\"Enter the Second Number: \"))\n",
        "addition = num1 + num2\n",
        "subtraction = num1 - num2\n",
        "multiplication = num1 * num2\n",
        "if num2 != 0:\n",
        "  division = num1 / num2\n",
        "else:\n",
        "  print(\"The number cannot be divided by 0\")\n",
        "print(\"Results:\")\n",
        "print(\"Addition: \", addition)\n",
        "print(\"Subtraction: \", subtraction)\n",
        "print(\"Multiplication: \", multiplication)\n",
        "print(\"Division: \", division)"
      ],
      "metadata": {
        "colab": {
          "base_uri": "https://localhost:8080/"
        },
        "id": "nt1RW3fndwKT",
        "outputId": "38afa296-2724-4aa2-f306-1644385da64b"
      },
      "execution_count": 11,
      "outputs": [
        {
          "output_type": "stream",
          "name": "stdout",
          "text": [
            "Enter the First Number: 20\n",
            "Enter the Second Number: 15\n",
            "Results:\n",
            "Addition:  35\n",
            "Subtraction:  5\n",
            "Multiplication:  300\n",
            "Division:  1.3333333333333333\n"
          ]
        }
      ]
    },
    {
      "cell_type": "markdown",
      "source": [
        "Q8. Write a program to demonstrate the use of logical operators."
      ],
      "metadata": {
        "id": "JW9H48TQgcEE"
      }
    },
    {
      "cell_type": "code",
      "source": [
        "x = 10\n",
        "y = 5\n",
        "\n",
        "# Using 'and'\n",
        "print(\"x > 5 and y < 10:\", x > 5 and y < 10)  # True, both conditions are True\n",
        "\n",
        "# Using 'or'\n",
        "print(\"x < 5 or y < 10:\", x < 5 or y < 10)    # True, one condition is True\n",
        "\n",
        "# Using 'not'\n",
        "print(\"not(x > 5):\", not(x > 5))"
      ],
      "metadata": {
        "colab": {
          "base_uri": "https://localhost:8080/"
        },
        "id": "ikzAe9QegWt1",
        "outputId": "7df86a3b-89db-41f1-adc9-59639b7d05c5"
      },
      "execution_count": 12,
      "outputs": [
        {
          "output_type": "stream",
          "name": "stdout",
          "text": [
            "x > 5 and y < 10: True\n",
            "x < 5 or y < 10: True\n",
            "not(x > 5): False\n"
          ]
        }
      ]
    },
    {
      "cell_type": "markdown",
      "source": [
        "Q10. Writea basic code to demonstrate type casting with list elements.\n"
      ],
      "metadata": {
        "id": "0PctzP-ghE-L"
      }
    },
    {
      "cell_type": "code",
      "source": [
        "str_list = [\"10\", \"20\", \"30\", \"40\"]\n",
        "\n",
        "print(\"Original list (strings):\", str_list)\n",
        "\n",
        "int_list = [int(item) for item in str_list]\n",
        "print(\"List after converting to integers:\", int_list)\n",
        "\n",
        "float_list = [float(item) for item in str_list]\n",
        "print(\"List after converting to floats:\", float_list)"
      ],
      "metadata": {
        "colab": {
          "base_uri": "https://localhost:8080/"
        },
        "id": "8bsBEAUshDY2",
        "outputId": "51e52a41-a3ea-43cf-9104-5bee3b56ddb2"
      },
      "execution_count": 13,
      "outputs": [
        {
          "output_type": "stream",
          "name": "stdout",
          "text": [
            "Original list (strings): ['10', '20', '30', '40']\n",
            "List after converting to integers: [10, 20, 30, 40]\n",
            "List after converting to floats: [10.0, 20.0, 30.0, 40.0]\n"
          ]
        }
      ]
    },
    {
      "cell_type": "markdown",
      "source": [
        "Q11. . Write a program that checks if a number is positive, negative, or zero."
      ],
      "metadata": {
        "id": "wvbXXly80i6A"
      }
    },
    {
      "cell_type": "code",
      "source": [
        "num = float(input(\"Enter a number: \"))\n",
        "if num > 0:\n",
        "  print(\"The number is positive\")\n",
        "else:\n",
        "  print(\"The number is negative\")\n",
        "if num == 0:\n",
        "  print(\"The number is zero\")\n"
      ],
      "metadata": {
        "colab": {
          "base_uri": "https://localhost:8080/"
        },
        "id": "ja5AOjbppoJg",
        "outputId": "3ba8643f-cc93-416a-dc7a-5264d56c359f"
      },
      "execution_count": 17,
      "outputs": [
        {
          "output_type": "stream",
          "name": "stdout",
          "text": [
            "Enter a number: -20\n",
            "The number is negative\n"
          ]
        }
      ]
    },
    {
      "cell_type": "markdown",
      "source": [
        "Q12.  Write a for loop to print numbers from 1 to 10."
      ],
      "metadata": {
        "id": "ySS9eYog33YT"
      }
    },
    {
      "cell_type": "code",
      "source": [
        "for i in range(1, 11):\n",
        "  print(i)"
      ],
      "metadata": {
        "colab": {
          "base_uri": "https://localhost:8080/"
        },
        "id": "BOEphp503ozG",
        "outputId": "4751485c-80e1-465e-fa03-9f0883f858a1"
      },
      "execution_count": 18,
      "outputs": [
        {
          "output_type": "stream",
          "name": "stdout",
          "text": [
            "1\n",
            "2\n",
            "3\n",
            "4\n",
            "5\n",
            "6\n",
            "7\n",
            "8\n",
            "9\n",
            "10\n"
          ]
        }
      ]
    },
    {
      "cell_type": "markdown",
      "source": [
        "Q13. Write a Python program to find the sum of all even numbers between 1 and 50."
      ],
      "metadata": {
        "id": "4oLXPl9Q4Mii"
      }
    },
    {
      "cell_type": "code",
      "source": [
        "total = 0\n",
        "for num in range(1, 51):\n",
        "  if num % 2 == 0:\n",
        "    total += num\n",
        "print(\"Sum of all even numbers between 1 and 50 is:\", total)\n"
      ],
      "metadata": {
        "colab": {
          "base_uri": "https://localhost:8080/"
        },
        "id": "_w_fc4GS4LXa",
        "outputId": "045e004f-2c3d-4ccc-ecec-d480aa2ee406"
      },
      "execution_count": 22,
      "outputs": [
        {
          "output_type": "stream",
          "name": "stdout",
          "text": [
            "Sum of all even numbers between 1 and 50 is: 650\n"
          ]
        }
      ]
    },
    {
      "cell_type": "markdown",
      "source": [
        "Q14. Write a program to reverse a string using a while loop."
      ],
      "metadata": {
        "id": "4bjfb10p5XmE"
      }
    },
    {
      "cell_type": "code",
      "source": [
        "input_string = \"Hello\"\n",
        "reversed_string = \"\"\n",
        "index = len(input_string) - 1\n",
        "\n",
        "while index >= 0:\n",
        "  reversed_string += input_string[index]\n",
        "  index -= 1\n",
        "\n",
        "print(\"Original string:\", input_string)\n",
        "print(\"Reversed string:\", reversed_string)"
      ],
      "metadata": {
        "colab": {
          "base_uri": "https://localhost:8080/"
        },
        "id": "LmOmw4c_5Hqs",
        "outputId": "272ea96a-91ed-4008-b677-e29d8c164031"
      },
      "execution_count": 23,
      "outputs": [
        {
          "output_type": "stream",
          "name": "stdout",
          "text": [
            "Original string: Hello\n",
            "Reversed string: olleH\n"
          ]
        }
      ]
    },
    {
      "cell_type": "markdown",
      "source": [
        "Q15.  Write a Python program to calculate the factorial of a number provided by the user using a while loop."
      ],
      "metadata": {
        "id": "zFCDBCmK9zDB"
      }
    },
    {
      "cell_type": "code",
      "source": [
        "num = int(input(\"Enter a number: \"))\n",
        "factorial = 1\n",
        "current = 1\n",
        "\n",
        "while current <= num:\n",
        "  factorial *= current\n",
        "  current += 1\n",
        "\n",
        "print(\"Factorial of\", num, \"is\", factorial)"
      ],
      "metadata": {
        "colab": {
          "base_uri": "https://localhost:8080/"
        },
        "id": "jma2IiaU-FS7",
        "outputId": "529bcc41-0294-4105-a6fb-e5aad8c1492b"
      },
      "execution_count": 24,
      "outputs": [
        {
          "output_type": "stream",
          "name": "stdout",
          "text": [
            "Enter a number: 6\n",
            "Factorial of 6 is 720\n"
          ]
        }
      ]
    },
    {
      "cell_type": "code",
      "source": [],
      "metadata": {
        "id": "PgHF1cFO-K7B"
      },
      "execution_count": null,
      "outputs": []
    }
  ]
}